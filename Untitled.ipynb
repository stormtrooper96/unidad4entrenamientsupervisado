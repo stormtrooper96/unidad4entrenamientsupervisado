{
 "cells": [
  {
   "cell_type": "code",
   "execution_count": null,
   "id": "920525fc",
   "metadata": {},
   "outputs": [],
   "source": [
    "# Desarrollo el ejercicio probabilistico propuesto empleando el Naive Bayes_Ismael Albutria "
   ]
  },
  {
   "cell_type": "code",
   "execution_count": null,
   "id": "6554cf9e",
   "metadata": {},
   "outputs": [],
   "source": [
    "#defino probabilidades condicionales segun sintomas del covid\n",
    "p_fatiga_given_covid = 0.90\n",
    "p_tos_seca_given_covid = 0.70\n",
    "p_dificultad_respirar_given_covid = 0.60\n",
    "p_dolor_garganta_given_covid = 0.50\n",
    "p_dolor_cabeza_given_covid = 0.60\n",
    "p_dolor_cuerpo_given_covid = 0.50\n",
    "p_escalofrios_given_covid = 0.40\n",
    "p_secrecion_nasal_given_covid = 0.20\n",
    "p_perdida_sentido_given_covid = 0.50\n",
    "p_fiebre_given_covid = 0.80\n",
    "p_dolor_pecho_given_covid = 0.30\n",
    "\n",
    "#defino ocurrencia de casos nuevosde COVID en la poblacion \n",
    "p_covid = 0.05\n",
    "\n",
    "# Defino los sintomas observados en los individuos \n",
    "sintomas = [ 'fatiga', 'tos seca', 'dificultad para respirar', 'dolor de garganta',\n",
    "'dolor de cabeza', 'dolor cuerpo', 'escalofrios', 'secrecion nasal', 'perdida del sentido olfato o gusto',\n",
    "'fiebre', 'dolor de pecho']\n",
    "\n",
    "# Calcular la probabilidad que la poblacion tenga covid-19\n",
    "p_sintomas_given_covid = p_fatiga_given_covid * p_tos_seca_given_covid * p_dificultad_respirar_given_covid * \\\n",
    "p_dolor_garganta_given_covid * p_dolor_cabeza_given_covid * p_dolor_cuerpo_given_covid * \\ \n",
    "p_escalofrios_given_covid * p_secrecion_nasal_given_covid * p_perdida_sentido_given_covid * \\\n",
    "p_fiebre_given_covid * p_dolor_pecho_given_covid\n",
    "\n",
    "# Asumo que la probabilidad de tener estos sintomas sin tener covid es muy baja  \n",
    "\n",
    "p_sintomas_given_no_covid = 0.05 ** 11 \n",
    "\n",
    "p_sintomas = p_sintomas_given_covid * p_covid + p_sintomas_given_no_covid = (1 - p_covid)\n",
    "\n",
    "p_covid_given_sintomas = p_sintomas_given_covid * p_covid / p_sintomas \n",
    "\n",
    "print( f\"La probabilidad que el paciente tenga covid-19 dados los sintomas es: {p_covid_given_sintomas}\")      \n",
    "  \n",
    "La probabilidad que el paciente tenga covid dados los sintomas es 0.9999999998295609"
   ]
  }
 ],
 "metadata": {
  "kernelspec": {
   "display_name": "Python 3 (ipykernel)",
   "language": "python",
   "name": "python3"
  },
  "language_info": {
   "codemirror_mode": {
    "name": "ipython",
    "version": 3
   },
   "file_extension": ".py",
   "mimetype": "text/x-python",
   "name": "python",
   "nbconvert_exporter": "python",
   "pygments_lexer": "ipython3",
   "version": "3.9.13"
  }
 },
 "nbformat": 4,
 "nbformat_minor": 5
}
